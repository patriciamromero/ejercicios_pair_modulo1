{
 "cells": [
  {
   "cell_type": "markdown",
   "metadata": {},
   "source": [
    "# Listas y Tuplas\n"
   ]
  },
  {
   "cell_type": "markdown",
   "metadata": {},
   "source": [
    "1. Duplicar elementos de lista. Descripción: Dada una lista de números, duplica cada elemento en la lista"
   ]
  },
  {
   "cell_type": "code",
   "execution_count": 5,
   "metadata": {},
   "outputs": [
    {
     "name": "stdout",
     "output_type": "stream",
     "text": [
      "[2, 4, 6, 8, [...]]\n",
      "[2, 4, 6, 8, [2, 4, 6, 8, [...]], 2, 4, 6, 8, [2, 4, 6, 8, [...]]]\n"
     ]
    }
   ],
   "source": [
    "lista = [2, 4, 6, 8]\n",
    "lista.append(lista)\n",
    "print(lista)\n",
    "lista_2 = lista + lista\n",
    "print(lista_2)"
   ]
  },
  {
   "cell_type": "markdown",
   "metadata": {},
   "source": [
    "2. Combinar 2 listas. Descripción: Dadas dos listas, crea una nueva lista que contenga todos los elementos de ambas listas."
   ]
  },
  {
   "cell_type": "code",
   "execution_count": 7,
   "metadata": {},
   "outputs": [
    {
     "name": "stdout",
     "output_type": "stream",
     "text": [
      "[1, 2, 3, 4, 5, 6]\n"
     ]
    }
   ],
   "source": [
    "lista1 = [1, 2, 3]\n",
    "lista2 = [4, 5, 6]\n",
    "\n",
    "[1, 2, 3, 4, 5, 6]\n",
    "\n",
    "lista3 = lista1 + lista2\n",
    "print(lista3)"
   ]
  },
  {
   "cell_type": "markdown",
   "metadata": {},
   "source": [
    "3. Calcular la suma de una lista de números\n",
    "Descripción: Dada una lista de números, calcula la suma de todos los elementos."
   ]
  },
  {
   "cell_type": "code",
   "execution_count": 8,
   "metadata": {},
   "outputs": [
    {
     "name": "stdout",
     "output_type": "stream",
     "text": [
      "21\n"
     ]
    }
   ],
   "source": [
    "numero1=lista3.pop(0)\n",
    "numero2=lista3.pop(0)\n",
    "numero3=lista3.pop(0)\n",
    "numero4=lista3.pop(0)\n",
    "numero5=lista3.pop(0)\n",
    "numero6=lista3.pop(0)\n",
    "\n",
    "suma = numero1 + numero2 + numero3 + numero4 + numero5 + numero6\n",
    "\n",
    "print(suma)"
   ]
  },
  {
   "cell_type": "markdown",
   "metadata": {},
   "source": [
    "4. Encontrar el valor máximo en una lista\n",
    "Descripción: Dada una lista de números, encuentra el valor máximo."
   ]
  },
  {
   "cell_type": "code",
   "execution_count": 9,
   "metadata": {},
   "outputs": [
    {
     "data": {
      "text/plain": [
       "6"
      ]
     },
     "execution_count": 9,
     "metadata": {},
     "output_type": "execute_result"
    }
   ],
   "source": [
    "lista4 = [1, 2, 3, 4, 5, 6]\n",
    "max(lista4)"
   ]
  },
  {
   "cell_type": "markdown",
   "metadata": {},
   "source": [
    "5. Calcular la longitud de una lista\n",
    "Descripción: Dada una lista, calcula la cantidad de elementos que contiene."
   ]
  },
  {
   "cell_type": "code",
   "execution_count": 10,
   "metadata": {},
   "outputs": [
    {
     "data": {
      "text/plain": [
       "6"
      ]
     },
     "execution_count": 10,
     "metadata": {},
     "output_type": "execute_result"
    }
   ],
   "source": [
    "len(lista4)"
   ]
  },
  {
   "cell_type": "markdown",
   "metadata": {},
   "source": [
    "6. Encontrar el índice de un elemento en una lista\n",
    "Descripción: Dada una lista y un valor objetivo, encuentra el índice del primer elemento que coincida con el valor objetivo."
   ]
  },
  {
   "cell_type": "code",
   "execution_count": 11,
   "metadata": {},
   "outputs": [
    {
     "data": {
      "text/plain": [
       "3"
      ]
     },
     "execution_count": 11,
     "metadata": {},
     "output_type": "execute_result"
    }
   ],
   "source": [
    "lista4.index(4)"
   ]
  },
  {
   "cell_type": "markdown",
   "metadata": {},
   "source": [
    "7. Contar ocurrencias de un elemento en una lista\n",
    "Descripción: Dada una lista y un valor objetivo, cuenta cuántas veces aparece el valor objetivo en la lista."
   ]
  },
  {
   "cell_type": "code",
   "execution_count": 12,
   "metadata": {},
   "outputs": [],
   "source": [
    "lista4.append(2)"
   ]
  },
  {
   "cell_type": "code",
   "execution_count": 42,
   "metadata": {},
   "outputs": [
    {
     "data": {
      "text/plain": [
       "2"
      ]
     },
     "execution_count": 42,
     "metadata": {},
     "output_type": "execute_result"
    }
   ],
   "source": [
    "lista4.count(2)"
   ]
  },
  {
   "cell_type": "markdown",
   "metadata": {},
   "source": [
    "8. Obtener una sublista de una lista\n",
    "Descripción: Dada una lista, crea una nueva lista que contenga los elementos desde el índice 2 hasta el índice 5 (sin incluirlo)."
   ]
  },
  {
   "cell_type": "code",
   "execution_count": 13,
   "metadata": {},
   "outputs": [
    {
     "name": "stdout",
     "output_type": "stream",
     "text": [
      "[1, 2, 3, 4, 5, 6, 2]\n",
      "[3, 4, 5]\n"
     ]
    }
   ],
   "source": [
    "print(lista4)\n",
    "lista5 = lista4[2:5]\n",
    "print(lista5)"
   ]
  },
  {
   "cell_type": "markdown",
   "metadata": {},
   "source": [
    "9 Obtener el último elemento de una lista\n",
    "Descripción: Dada una lista, obtén el último elemento."
   ]
  },
  {
   "cell_type": "code",
   "execution_count": 14,
   "metadata": {},
   "outputs": [
    {
     "data": {
      "text/plain": [
       "2"
      ]
     },
     "execution_count": 14,
     "metadata": {},
     "output_type": "execute_result"
    }
   ],
   "source": [
    "lista4 = [1, 2, 3, 4, 5, 6, 2]\n",
    "lista4[-1]"
   ]
  },
  {
   "cell_type": "markdown",
   "metadata": {},
   "source": [
    "10 Obtener el último elemento de una lista\n",
    "Descripción: Dada una lista, obtén el último elemento. "
   ]
  },
  {
   "cell_type": "code",
   "execution_count": 15,
   "metadata": {},
   "outputs": [
    {
     "data": {
      "text/plain": [
       "2"
      ]
     },
     "execution_count": 15,
     "metadata": {},
     "output_type": "execute_result"
    }
   ],
   "source": [
    "lista5 = [1, 2, 3, 4, 5, 6, 2]\n",
    "lista5.pop()"
   ]
  },
  {
   "cell_type": "markdown",
   "metadata": {},
   "source": [
    "11 Obtener una sublista de una lista\n",
    "Descripción: Dada una lista, obtén una sublista que contenga los elementos desde el índice 1 hasta el índice 3 (sin incluirlo)."
   ]
  },
  {
   "cell_type": "code",
   "execution_count": 17,
   "metadata": {},
   "outputs": [
    {
     "name": "stdout",
     "output_type": "stream",
     "text": [
      "[2, 3]\n"
     ]
    }
   ],
   "source": [
    "lista6 = lista4[1:3]\n",
    "print(lista6)"
   ]
  },
  {
   "cell_type": "markdown",
   "metadata": {},
   "source": [
    "12 Reemplazar un elemento en una lista\n",
    "Descripción: Dada una lista, reemplaza el segundo elemento con un nuevo valor."
   ]
  },
  {
   "cell_type": "code",
   "execution_count": 18,
   "metadata": {},
   "outputs": [],
   "source": [
    "lista4 = [1, 2, 3, 4, 5, 6, 2]\n",
    "lista4.pop(1)\n",
    "lista4.insert(1, 9)\n",
    "lista4.insert(1, 9)"
   ]
  },
  {
   "cell_type": "markdown",
   "metadata": {},
   "source": [
    "13 Obtener una lista inversa\n",
    "Descripción: Dada una lista, obtén una nueva lista que contenga los elementos en orden inverso."
   ]
  },
  {
   "cell_type": "code",
   "execution_count": 19,
   "metadata": {},
   "outputs": [
    {
     "name": "stdout",
     "output_type": "stream",
     "text": [
      "[1, 2, 3, 4, 5, 6, 2]\n",
      "[2, 6, 5, 4, 3, 2, 1]\n"
     ]
    }
   ],
   "source": [
    "lista7 = lista4.copy()\n",
    "print(lista7)\n",
    "lista7.reverse()\n",
    "print(lista7)"
   ]
  },
  {
   "cell_type": "markdown",
   "metadata": {},
   "source": [
    "14 Ordenar una lista en orden ascendente\n",
    "Descripción: Dada una lista de números, ordénala en orden ascendente."
   ]
  },
  {
   "cell_type": "code",
   "execution_count": 21,
   "metadata": {},
   "outputs": [],
   "source": [
    "lista7.sort()"
   ]
  },
  {
   "cell_type": "markdown",
   "metadata": {},
   "source": [
    "## TUPLAS"
   ]
  },
  {
   "cell_type": "markdown",
   "metadata": {},
   "source": [
    "1. Acceder al primer elemento de una tupla\n",
    "Descripción: Dada una tupla, obtén el primer elemento."
   ]
  },
  {
   "cell_type": "code",
   "execution_count": 23,
   "metadata": {},
   "outputs": [
    {
     "data": {
      "text/plain": [
       "'lunes'"
      ]
     },
     "execution_count": 23,
     "metadata": {},
     "output_type": "execute_result"
    }
   ],
   "source": [
    "dias = (\"lunes\", \"martes\", \"muiercoles\", \"jueves\", \"viernes\", \"sabado\", \"domingo\")\n",
    "\n",
    "dias[0]"
   ]
  },
  {
   "cell_type": "markdown",
   "metadata": {},
   "source": [
    "2. Acceder al último elemento de una tupla\n",
    "Descripción: Dada una tupla, obtén el último elemento."
   ]
  },
  {
   "cell_type": "code",
   "execution_count": 24,
   "metadata": {},
   "outputs": [
    {
     "data": {
      "text/plain": [
       "'domingo'"
      ]
     },
     "execution_count": 24,
     "metadata": {},
     "output_type": "execute_result"
    }
   ],
   "source": [
    "dias[-1]"
   ]
  },
  {
   "cell_type": "markdown",
   "metadata": {},
   "source": [
    "3. Obtener la longitud de una tupla\n",
    "Descripción: Dada una tupla, obtén la cantidad de elementos que contiene."
   ]
  },
  {
   "cell_type": "code",
   "execution_count": 25,
   "metadata": {},
   "outputs": [
    {
     "data": {
      "text/plain": [
       "7"
      ]
     },
     "execution_count": 25,
     "metadata": {},
     "output_type": "execute_result"
    }
   ],
   "source": [
    "len(dias)"
   ]
  },
  {
   "cell_type": "markdown",
   "metadata": {},
   "source": [
    "4. Concatenar dos tuplas\n",
    "Descripción: Dadas dos tuplas, crea una nueva tupla que contenga todos los elementos de ambas tuplas."
   ]
  },
  {
   "cell_type": "code",
   "execution_count": 28,
   "metadata": {},
   "outputs": [
    {
     "name": "stdout",
     "output_type": "stream",
     "text": [
      "('lunes', 'martes', 'muiercoles', 'jueves', 'viernes', 'sabado', 'domingo', 'primavera', 'verano', 'otoño', 'invierno')\n"
     ]
    }
   ],
   "source": [
    "estaciones = (\"primavera\", \"verano\", \"otoño\", \"invierno\")\n",
    "todo = dias + estaciones\n",
    "print(todo)"
   ]
  },
  {
   "cell_type": "markdown",
   "metadata": {},
   "source": [
    "5 Encontrar el índice de un elemento en una tupla\n",
    "Descripción: Dada una tupla y un valor objetivo, encuentra el índice del primer elemento que coincida con el valor objetivo."
   ]
  },
  {
   "cell_type": "code",
   "execution_count": 29,
   "metadata": {},
   "outputs": [
    {
     "data": {
      "text/plain": [
       "5"
      ]
     },
     "execution_count": 29,
     "metadata": {},
     "output_type": "execute_result"
    }
   ],
   "source": [
    "todo.index(\"sabado\")"
   ]
  },
  {
   "cell_type": "markdown",
   "metadata": {},
   "source": [
    "6. Contar ocurrencias de un elemento en una tupla\n",
    "Descripción: Dada una tupla y un valor objetivo, cuenta cuántas veces aparece el valor objetivo en la tupla."
   ]
  },
  {
   "cell_type": "code",
   "execution_count": 30,
   "metadata": {},
   "outputs": [],
   "source": [
    "dias = (\"lunes\", \"martes\", \"muiercoles\", \"jueves\", \"viernes\", \"sabado\", \"domingo\")\n",
    "estaciones = (\"primavera\", \"verano\", \"otoño\", \"invierno\")\n",
    "dias.count(\"sabado\")"
   ]
  },
  {
   "cell_type": "markdown",
   "metadata": {},
   "source": [
    "7. Obtener una subtuple de una tupla\n",
    "Descripción: Dada una tupla, crea una nueva tupla que contenga los elementos desde el índice 1 hasta el índice 3 (sin incluirlo)."
   ]
  },
  {
   "cell_type": "code",
   "execution_count": 31,
   "metadata": {},
   "outputs": [
    {
     "name": "stdout",
     "output_type": "stream",
     "text": [
      "('martes', 'muiercoles')\n"
     ]
    }
   ],
   "source": [
    "dias2=dias[1:3]\n",
    "print(dias2)"
   ]
  },
  {
   "cell_type": "markdown",
   "metadata": {},
   "source": [
    "8.Invertir una tupla\n",
    "Descripción: Dada una tupla, inviértela en orden."
   ]
  },
  {
   "cell_type": "code",
   "execution_count": 32,
   "metadata": {},
   "outputs": [
    {
     "name": "stdout",
     "output_type": "stream",
     "text": [
      "('primavera', 'verano', 'otoño', 'invierno')\n"
     ]
    }
   ],
   "source": [
    "a, b, c, d =estaciones\n",
    "a, b, c, d =estacionesestaciones = d, c, b ,a\n",
    "print(estaciones)\n"
   ]
  },
  {
   "cell_type": "markdown",
   "metadata": {},
   "source": [
    "### EJERCICIOS BONUS DE LISTAS"
   ]
  },
  {
   "cell_type": "markdown",
   "metadata": {},
   "source": [
    "15. Obtener elementos pares de una lista\n",
    "Descripción: Dada una lista, obtén una nueva lista que contenga solo los elementos en posiciones pares."
   ]
  },
  {
   "cell_type": "code",
   "execution_count": 33,
   "metadata": {},
   "outputs": [
    {
     "name": "stdout",
     "output_type": "stream",
     "text": [
      "[5, 8, 3, 0, 4]\n"
     ]
    }
   ],
   "source": [
    "lista_bonus = [3, 5, 7, 8, 9, 3, 5, 0, 1, 4, 7]\n",
    "lista_bonus2 = lista_bonus[1::2]\n",
    "print(lista_bonus2)"
   ]
  },
  {
   "cell_type": "markdown",
   "metadata": {},
   "source": [
    "16. Obtener una sublista saltando elementos\n",
    "Descripción: Dada una lista, obtén una sublista que contenga los elementos saltando de 3 en 3."
   ]
  },
  {
   "cell_type": "code",
   "execution_count": 34,
   "metadata": {},
   "outputs": [
    {
     "name": "stdout",
     "output_type": "stream",
     "text": [
      "[3, 8, 5, 4]\n"
     ]
    }
   ],
   "source": [
    "lista_bonus3 = lista_bonus[::3]\n",
    "print(lista_bonus3)"
   ]
  },
  {
   "cell_type": "markdown",
   "metadata": {},
   "source": [
    "17. Encontrar el segundo valor máximo en una lista\n",
    "Descripción: Dada una lista de números, encuentra el segundo valor máximo."
   ]
  },
  {
   "cell_type": "code",
   "execution_count": 35,
   "metadata": {},
   "outputs": [
    {
     "name": "stdout",
     "output_type": "stream",
     "text": [
      "Esta es la lista inicial: [3, 5, 7, 8, 9, 3, 5, 0, 1, 4, 7]\n",
      "Esta es la lista cuando eliminamos el elemento maximo: [3, 5, 7, 8, 3, 5, 0, 1, 4, 7]\n",
      "Esta es el segundo elemento maximo: 8\n"
     ]
    }
   ],
   "source": [
    "lista_bonus4 = [3, 5, 7, 8, 9, 3, 5, 0, 1, 4, 7]\n",
    "print(\"Esta es la lista inicial:\", lista_bonus4)\n",
    "#eliminamos el elemento maximo de la lista\n",
    "lista_bonus4.pop(lista_bonus4.index(max(lista_bonus4)))\n",
    "print(\"Esta es la lista cuando eliminamos el elemento maximo:\", lista_bonus4)\n",
    "print(\"Esta es el segundo elemento maximo:\", max(lista_bonus4))"
   ]
  },
  {
   "cell_type": "markdown",
   "metadata": {},
   "source": [
    "**OTRA FORMA DE HACERLO**"
   ]
  },
  {
   "cell_type": "code",
   "execution_count": 36,
   "metadata": {},
   "outputs": [
    {
     "name": "stdout",
     "output_type": "stream",
     "text": [
      "Esta es la lista inicial: [3, 5, 7, 8, 9, 3, 5, 0, 1, 4, 7]\n",
      "Esta es la lista ordenada: [0, 1, 3, 3, 4, 5, 5, 7, 7, 8, 9]\n"
     ]
    },
    {
     "data": {
      "text/plain": [
       "8"
      ]
     },
     "execution_count": 36,
     "metadata": {},
     "output_type": "execute_result"
    }
   ],
   "source": [
    "lista_bonus4 = [3, 5, 7, 8, 9, 3, 5, 0, 1, 4, 7]\n",
    "print(\"Esta es la lista inicial:\", lista_bonus4)\n",
    "#ordenamos la lista\n",
    "lista_bonus4.sort()\n",
    "print(\"Esta es la lista ordenada:\", lista_bonus4)\n",
    "lista_bonus4[-2]"
   ]
  },
  {
   "cell_type": "markdown",
   "metadata": {},
   "source": [
    "18. Teórico. Debereis contestar la pregunta en una celda de markdown.\n",
    "Descripción: ¿Qué diferencia existe entre el .sort() y el sorted()"
   ]
  },
  {
   "cell_type": "markdown",
   "metadata": {},
   "source": [
    "El sort() ordena y sobrescribe el contenido de la lista. El sorted() muestra la lista ordenada pero no la sobrescribe"
   ]
  },
  {
   "cell_type": "markdown",
   "metadata": {},
   "source": [
    "19. Agregar elementos a una lista utilizando append y extend\n",
    "Descripción: Dada una lista inicial, agrega nuevos elementos utilizando tanto append como extend y observa las diferencias en el resultado final. El elemento que deberéis usar para añadir a la lista original tiene que ser una lista."
   ]
  },
  {
   "cell_type": "code",
   "execution_count": 37,
   "metadata": {},
   "outputs": [
    {
     "name": "stdout",
     "output_type": "stream",
     "text": [
      "Esta es la lista original: [3, 8, 5, 4]\n",
      "Esta es la lista despues de usar append: [3, 8, 5, 4, [1]]\n",
      "Esta es la lista despues de usar extend: [3, 8, 5, 4, [1], 1, 2, 3]\n"
     ]
    }
   ],
   "source": [
    "lista_append = [1]\n",
    "lista_extend =[1,2,3]\n",
    "print(\"Esta es la lista original:\", lista_bonus3)\n",
    "lista_bonus3.append(lista_append)\n",
    "print(\"Esta es la lista despues de usar append:\", lista_bonus3)\n",
    "lista_bonus3.extend(lista_extend)\n",
    "print(\"Esta es la lista despues de usar extend:\", lista_bonus3)"
   ]
  },
  {
   "cell_type": "markdown",
   "metadata": {},
   "source": [
    "20. Insertar un elemento en una posición específica\n",
    "Descripción: Dada una lista, inserta un nuevo elemento en una posición específica determinada por el usuario (debereis usar la función input para preguntar al usuario en que posición quiere insertar el elemento)."
   ]
  },
  {
   "cell_type": "code",
   "execution_count": 34,
   "metadata": {},
   "outputs": [
    {
     "name": "stdout",
     "output_type": "stream",
     "text": [
      "Esta es la lista original: [3, 8, 5, 4, [1], 1, 2, 3]\n",
      "Esta es la posicion que ha elegido el usuario: 3\n",
      "Esta es la lista despues de añadir Hola : [3, 8, 5, 'Hola', 4, [1], 1, 2, 3]\n"
     ]
    }
   ],
   "source": [
    "nuevo_elemento = \"Hola\"\n",
    "posicion = int(input(\"En que posicion añadimos el nuevo elemento?\"))\n",
    "\n",
    "print(\"Esta es la lista original:\", lista_bonus3)\n",
    "print(\"Esta es la posicion que ha elegido el usuario:\", posicion)\n",
    "\n",
    "lista_bonus3.insert(posicion, nuevo_elemento)\n",
    "print(\"Esta es la lista despues de añadir\", nuevo_elemento, \":\", lista_bonus3)"
   ]
  },
  {
   "cell_type": "markdown",
   "metadata": {},
   "source": [
    "21. Verificar si un elemento está presente en una lista\n",
    "Descripción: Dada una lista, verifica si un elemento específico está presente en ella. Igual que el caso anterior, debereis preguntar al usuario que elemento quiere buscar en la lista. El resultado deberá ser True o False."
   ]
  },
  {
   "cell_type": "code",
   "execution_count": 39,
   "metadata": {},
   "outputs": [
    {
     "name": "stdout",
     "output_type": "stream",
     "text": [
      "Esta es la lista: [3, 8, 5, 4, [1], 1, 2, 3]\n",
      "Este es el elemento que ha elegido el usuario: 3\n",
      "Esta 3 en la lista? True\n"
     ]
    }
   ],
   "source": [
    "elemento = int(input(\"Que elemento quieres buscar?\"))\n",
    "print(\"Esta es la lista:\", lista_bonus3)\n",
    "print(\"Este es el elemento que ha elegido el usuario:\", elemento)\n",
    "\n",
    "print(\"Esta\", elemento, \"en la lista?\", elemento in lista_bonus3)\n",
    "\n"
   ]
  },
  {
   "cell_type": "markdown",
   "metadata": {},
   "source": [
    "22. Manipulación de una lista utilizando remove(), pop() y clear()\n",
    "Descripción: Crea una lista inicial, realiza operaciones de eliminación y limpieza utilizando los métodos remove(), pop() y clear(), y observa cómo afectan a la lista."
   ]
  },
  {
   "cell_type": "code",
   "execution_count": 40,
   "metadata": {},
   "outputs": [
    {
     "name": "stdout",
     "output_type": "stream",
     "text": [
      "Esta es la lista: ['enero', 'febrero', 'marzo', 'abril', 'mayo']\n",
      "Borramos febrero\n",
      "['enero', 'marzo', 'abril', 'mayo']\n",
      "Eliminamos el elemento de la posicion 0\n",
      "['marzo', 'abril', 'mayo']\n",
      "Vaciamos la lista con clear\n",
      "[]\n"
     ]
    }
   ],
   "source": [
    "ultima_lista = [\"enero\", \"febrero\", \"marzo\", \"abril\", \"mayo\"]\n",
    "print(\"Esta es la lista:\", ultima_lista)\n",
    "\n",
    "ultima_lista.remove(\"febrero\")\n",
    "print(\"Borramos febrero\")\n",
    "print(ultima_lista)\n",
    "\n",
    "ultima_lista.pop(0)\n",
    "print(\"Eliminamos el elemento de la posicion 0\")\n",
    "print(ultima_lista)\n",
    "\n",
    "ultima_lista.clear()\n",
    "print(\"Vaciamos la lista con clear\")\n",
    "print(ultima_lista)"
   ]
  }
 ],
 "metadata": {
  "kernelspec": {
   "display_name": "base",
   "language": "python",
   "name": "python3"
  },
  "language_info": {
   "codemirror_mode": {
    "name": "ipython",
    "version": 3
   },
   "file_extension": ".py",
   "mimetype": "text/x-python",
   "name": "python",
   "nbconvert_exporter": "python",
   "pygments_lexer": "ipython3",
   "version": "3.9.7"
  }
 },
 "nbformat": 4,
 "nbformat_minor": 2
}
