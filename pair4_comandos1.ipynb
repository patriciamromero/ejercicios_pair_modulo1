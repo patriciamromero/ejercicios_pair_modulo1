{
 "cells": [
  {
   "cell_type": "markdown",
   "metadata": {},
   "source": [
    "1. Verificar si un número es positivo, negativo o cero\n",
    "Descripción: Dado un número, verifica si es positivo, negativo o cero."
   ]
  },
  {
   "cell_type": "code",
   "execution_count": 5,
   "metadata": {},
   "outputs": [
    {
     "name": "stdout",
     "output_type": "stream",
     "text": [
      "El número es cero\n"
     ]
    }
   ],
   "source": [
    "numero = 0\n",
    "\n",
    "if numero < 0: \n",
    "    print(\"Negativo\")\n",
    "elif numero > 0: \n",
    "    print(\"Positivo\")\n",
    "elif numero == 0: \n",
    "    print(\"El número es cero\")"
   ]
  },
  {
   "cell_type": "markdown",
   "metadata": {},
   "source": [
    "2. Verificar si un número es par o impar\n",
    "Descripción: Dado un número, verifica si es par o impar."
   ]
  },
  {
   "cell_type": "code",
   "execution_count": 6,
   "metadata": {},
   "outputs": [
    {
     "name": "stdout",
     "output_type": "stream",
     "text": [
      "Par\n"
     ]
    }
   ],
   "source": [
    "numero = 0\n",
    "\n",
    "if numero%2 == 0: \n",
    "    print(\"Par\")\n",
    "else: \n",
    "    print(\"Impar\")"
   ]
  },
  {
   "cell_type": "markdown",
   "metadata": {},
   "source": [
    "3. Verificar si un estudiante aprobó o suspendió un examen\n",
    "Descripción: Dada la calificación de un estudiante en un examen, verifica si aprobó o suspendió (si la calificación es mayor o igual a 60 se considera aprobado)"
   ]
  },
  {
   "cell_type": "code",
   "execution_count": 7,
   "metadata": {},
   "outputs": [
    {
     "name": "stdout",
     "output_type": "stream",
     "text": [
      "Aprobado\n"
     ]
    }
   ],
   "source": [
    "calificacion = 85\n",
    "\n",
    "if calificacion >= 60: \n",
    "    print(\"Aprobado\")\n",
    "else:\n",
    "    print(\"Suspenso\")"
   ]
  },
  {
   "cell_type": "markdown",
   "metadata": {},
   "source": [
    "4.Calcular el máximo entre dos números\n",
    "Descripción: Dados dos números, encuentra el máximo entre ellos."
   ]
  },
  {
   "cell_type": "code",
   "execution_count": 8,
   "metadata": {},
   "outputs": [
    {
     "name": "stdout",
     "output_type": "stream",
     "text": [
      "El máximo es  24\n"
     ]
    }
   ],
   "source": [
    "numero1= 14\n",
    "numero2= 24\n",
    "\n",
    "if numero1 > numero2:\n",
    "    print(\"El máximo es \",  int(numero1))\n",
    "else:\n",
    "    print(\"El máximo es \", int(numero2))"
   ]
  },
  {
   "cell_type": "markdown",
   "metadata": {},
   "source": [
    "5. Verificar si una letra es una vocal o una consonante\n",
    "Descripción: Dada una letra, verifica si es una vocal o una consonante."
   ]
  },
  {
   "cell_type": "code",
   "execution_count": 9,
   "metadata": {},
   "outputs": [
    {
     "name": "stdout",
     "output_type": "stream",
     "text": [
      "Es una vocal\n"
     ]
    }
   ],
   "source": [
    "vocales = [\"a\", \"e\", \"i\", \"o\", \"u\"] \n",
    "letra = \"i\"\n",
    "\n",
    "if letra in vocales: \n",
    "    print(\"Es una vocal\")\n",
    "else: \n",
    "    print(\"Es una consonante\")"
   ]
  },
  {
   "cell_type": "markdown",
   "metadata": {},
   "source": [
    "6. Calcular el descuento en una compra según el monto total\n",
    "Descripción: Dado el monto total de una compra, calcula el descuento aplicado según las siguientes condiciones: si el monto es mayor o igual a $100, aplica un descuento del 10%; de lo contrario, no aplica ningún descuento."
   ]
  },
  {
   "cell_type": "code",
   "execution_count": 10,
   "metadata": {},
   "outputs": [
    {
     "name": "stdout",
     "output_type": "stream",
     "text": [
      "El descuento es 12.0 €.\n"
     ]
    }
   ],
   "source": [
    "compra = 120\n",
    "\n",
    "if compra >= 100: \n",
    "    print(\"El descuento es\", (compra*0.10), \"€.\")\n",
    "else: \n",
    "    print(\"No tienes descuento.\")\n"
   ]
  },
  {
   "cell_type": "markdown",
   "metadata": {},
   "source": [
    "7.Verificar si un año es bisiesto o no\n",
    "Descripción: Dado un año, verifica si es bisiesto o no (un año es bisiesto si es divisible entre 4, excepto aquellos divisibles entre 100 pero no entre 400)."
   ]
  },
  {
   "cell_type": "code",
   "execution_count": 11,
   "metadata": {},
   "outputs": [
    {
     "name": "stdout",
     "output_type": "stream",
     "text": [
      "No es bisiesto\n"
     ]
    }
   ],
   "source": [
    "anio = int(input())\n",
    "\n",
    "if anio % 4 == 0: \n",
    "    if anio % 100 == 0:\n",
    "        if anio % 400 == 0: \n",
    "            print(\"Es bisiesto.\")\n",
    "        else: \n",
    "            print(\"No es bisiesto.\")\n",
    "    else:\n",
    "        print(\"Es bisiesto\")\n",
    "else: \n",
    "    print(\"No es bisiesto\")"
   ]
  },
  {
   "cell_type": "markdown",
   "metadata": {},
   "source": [
    "8. Asignar una categoría a una edad\n",
    "Descripción: Dada una edad, asigna una categoría según las siguientes condiciones: si la edad es menor de 18, la categoría es \"Menor de edad\"; si la edad está entre 18 y 64 (incluyendo ambos), la categoría es \"Adulto\"; de lo contrario, la categoría es \"Adulto mayor\"."
   ]
  },
  {
   "cell_type": "code",
   "execution_count": 12,
   "metadata": {},
   "outputs": [
    {
     "name": "stdout",
     "output_type": "stream",
     "text": [
      "Eres menor de edad\n"
     ]
    }
   ],
   "source": [
    "edad = int(input(\"Qué edad tienes'\"))\n",
    "\n",
    "if edad < 18: \n",
    "    print(\"Eres menor de edad\")\n",
    "else: \n",
    "    if edad <= 64: \n",
    "        print(\"Adulto\")\n",
    "    else: \n",
    "        print(\"Adulto mayor\")"
   ]
  },
  {
   "cell_type": "markdown",
   "metadata": {},
   "source": [
    "9. Verificar si tres números forman un triángulo rectángulo\n",
    "Descripción: Dados tres números, verifica si forman un triángulo rectángulo (si se cumple el teorema de Pitágoras)."
   ]
  },
  {
   "cell_type": "code",
   "execution_count": 13,
   "metadata": {},
   "outputs": [
    {
     "name": "stdout",
     "output_type": "stream",
     "text": [
      "No es\n"
     ]
    }
   ],
   "source": [
    "# teorema: c ** 2 = (a ** 2) + (b ** 2)\n",
    "# ejemplo: a = 8, b= 6, c = 10\n",
    "\n",
    "a = int(input(\"Indica primer cateto\"))\n",
    "b = int(input(\"Indica segundo cateto\"))\n",
    "c = int(input(\"Indica hipotenusa\"))\n",
    "\n",
    "if c ** 2 == (a ** 2) + (b ** 2):\n",
    "    print(\"Es triángulo rectángulo.\")\n",
    "else: \n",
    "    print(\"No es\")"
   ]
  },
  {
   "cell_type": "markdown",
   "metadata": {},
   "source": [
    "10. Asignar una calificación a una puntuación\n",
    "Descripción: Dada una puntuación, asigna una calificación según las siguientes condiciones: si la puntuación es mayor o igual a 90, la calificación es \"A\"; si es mayor o igual a 80, la calificación es \"B\"; si es mayor o igual a 70, la calificación es \"C\"; si es mayor o igual a 60, la calificación es \"D\"; de lo contrario, la calificación es \"F\""
   ]
  },
  {
   "cell_type": "code",
   "execution_count": 14,
   "metadata": {},
   "outputs": [
    {
     "name": "stdout",
     "output_type": "stream",
     "text": [
      "F\n"
     ]
    }
   ],
   "source": [
    "puntuacion =int(input(\"Indica puntuación\"))\n",
    "\n",
    "if puntuacion >= 90: \n",
    "    print(\"A\")\n",
    "elif puntuacion >= 80: \n",
    "    print(\"B\")\n",
    "elif puntuacion >= 70: \n",
    "    print(\"C\")\n",
    "elif puntuacion >= 60: \n",
    "    print(\"D\")\n",
    "else: \n",
    "    print(\"F\")"
   ]
  },
  {
   "cell_type": "markdown",
   "metadata": {},
   "source": [
    "11. Calcular el índice de masa corporal (IMC) y categorizarlo\n",
    "Descripción: Dados el peso (en kg) y la altura (en metros) de una persona, calcula su IMC y categorízalo según las siguientes condiciones: si el IMC es menor a 18.5, es \"Bajo peso\"; si está entre 18.5 y 24.9 (inclusive), es \"Peso normal\"; si está entre 25 y 29.9 (inclusive), es \"Sobrepeso\"; de lo contrario, es \"Obesidad\"."
   ]
  },
  {
   "cell_type": "code",
   "execution_count": 2,
   "metadata": {},
   "outputs": [
    {
     "name": "stdout",
     "output_type": "stream",
     "text": [
      "Bajo peso\n"
     ]
    }
   ],
   "source": [
    "peso = float(input(\"Indica tu peso en kilos\"))\n",
    "altura = float(input(\"Indica tu altura en metros\"))\n",
    "\n",
    "IMC = peso/(altura**2)\n",
    "\n",
    "if IMC < 18.5:\n",
    "    print(\"Bajo peso\")\n",
    "\n",
    "elif 18.5 <= IMC <= 24.9:\n",
    "    print(\"Peso normal\")\n",
    "\n",
    "elif 25 <= IMC <= 29.9:\n",
    "    print(\"Sobrepeso\")\n",
    "\n",
    "else:\n",
    "    print(\"Obesidad\")"
   ]
  },
  {
   "cell_type": "markdown",
   "metadata": {},
   "source": [
    "12. Calcular el mayor de tres números\n",
    "Descripción: Dados tres números, encuentra el mayor entre ellos."
   ]
  },
  {
   "cell_type": "code",
   "execution_count": 97,
   "metadata": {},
   "outputs": [
    {
     "name": "stdout",
     "output_type": "stream",
     "text": [
      "El  3 es el número mayor.\n"
     ]
    }
   ],
   "source": [
    "num1 = int(input(\"Indica el primer número\"))\n",
    "num2 = int(input(\"Indica el segundo número\"))\n",
    "num3 = int(input(\"Indica el tercer número\"))\n",
    "\n",
    "if num1 > num2 and num1 > num3:\n",
    "    print(\"El \", num1, \"es el número mayor.\")\n",
    "elif num2 > num1 and num2 > num3:\n",
    "    print(\"El \", num2, \"es el número mayor.\")\n",
    "else: \n",
    "  print(\"El \", num3, \"es el número mayor.\")"
   ]
  },
  {
   "cell_type": "markdown",
   "metadata": {},
   "source": [
    "**OTRA FORMA DE HACERLO**"
   ]
  },
  {
   "cell_type": "code",
   "execution_count": 98,
   "metadata": {},
   "outputs": [
    {
     "name": "stdout",
     "output_type": "stream",
     "text": [
      "El  3 es el número mayor.\n"
     ]
    }
   ],
   "source": [
    "#posible solucion sin usar comandos control:\n",
    "num4 = int(input(\"Indica el primer número\"))\n",
    "num5 = int(input(\"Indica el segundo número\"))\n",
    "num6 = int(input(\"Indica el tercer número\"))\n",
    "\n",
    "listanumeros = [num1, num2, num3]\n",
    "print(\"El \", max(listanumeros), \"es el número mayor.\")"
   ]
  },
  {
   "cell_type": "markdown",
   "metadata": {},
   "source": [
    "BONUS sentencias de control: Verificar la validez de una fecha\n",
    "Descripción: Dados el día, el mes y el año de una fecha, verifica si la fecha es válida."
   ]
  },
  {
   "cell_type": "code",
   "execution_count": null,
   "metadata": {},
   "outputs": [],
   "source": []
  },
  {
   "cell_type": "markdown",
   "metadata": {},
   "source": [
    "Ejercicios while"
   ]
  },
  {
   "cell_type": "markdown",
   "metadata": {},
   "source": [
    "1. Calcular la suma de los primeros 10 números naturales utilizando un bucle while\n",
    "Descripción: Utiliza un bucle while para calcular la suma de los primeros 10 números naturales (1 + 2 + 3 + ... + 10)."
   ]
  },
  {
   "cell_type": "code",
   "execution_count": 105,
   "metadata": {},
   "outputs": [
    {
     "name": "stdout",
     "output_type": "stream",
     "text": [
      "55\n"
     ]
    }
   ],
   "source": [
    "#opcion con while\n",
    "numero = 1 \n",
    "suma = 0 \n",
    "\n",
    "while numero < 11:\n",
    "    suma = suma + numero\n",
    "    numero += 1\n",
    "print(suma)\n",
    "\n"
   ]
  },
  {
   "cell_type": "code",
   "execution_count": 96,
   "metadata": {},
   "outputs": [
    {
     "name": "stdout",
     "output_type": "stream",
     "text": [
      "55\n"
     ]
    }
   ],
   "source": [
    "#otra opcion con list, range y sum\n",
    "numeros = list(range(1, 11))\n",
    "#print(numeros)\n",
    "print(sum(numeros))\n",
    "\n"
   ]
  },
  {
   "cell_type": "markdown",
   "metadata": {},
   "source": [
    "2. Juego de adivinanza utilizando un bucle while\n",
    "Descripción: Crea un juego de adivinanza en el que el jugador tiene que adivinar un número secreto (tendrá que ser entre el 0 y el 10). Utiliza un bucle while para permitir múltiples intentos hasta que el jugador adivine correctamente."
   ]
  },
  {
   "cell_type": "code",
   "execution_count": 1,
   "metadata": {},
   "outputs": [
    {
     "name": "stdout",
     "output_type": "stream",
     "text": [
      "Has fallado. Intentalo de nuevo\n",
      "Respuesta correcta\n"
     ]
    }
   ],
   "source": [
    "numero1 = int(input(\"Indica tu número del 1 al 10\"))\n",
    "numero2 = int(input(\"Adivina el número del jugador 1\"))\n",
    "\n",
    "while numero1 != numero2:\n",
    "    print (\"Has fallado. Intentalo de nuevo\")\n",
    "    numero2 = int(input(\"Adivina el número del jugador 1\"))\n",
    "if numero1 == numero2: \n",
    "    print(\"Respuesta correcta\")"
   ]
  },
  {
   "cell_type": "code",
   "execution_count": 1,
   "metadata": {},
   "outputs": [
    {
     "name": "stdout",
     "output_type": "stream",
     "text": [
      "¡Has fallado! Prueba de nuevo\n",
      "¡Has fallado! Prueba de nuevo\n",
      "¡Has fallado! Prueba de nuevo\n",
      "¡Has fallado! Prueba de nuevo\n",
      "¡Has fallado! Prueba de nuevo\n",
      "¡Has fallado! Prueba de nuevo\n",
      "Has acertado. ¡Enhorabuena!\n"
     ]
    }
   ],
   "source": [
    "#creando una lista, dando opciones de respuesta y eliminando no validas\n",
    "lista_de_numeros = list(range(1,11))\n",
    "#print(lista_de_numeros)\n",
    "numero1= int(input(\"Indica un número de la siguiente lista \" + str(lista_de_numeros)))\n",
    "numero2= int(input(\"Indica un número de la siguiente lista \" + str(lista_de_numeros)))\n",
    "\n",
    "if numero1 > 10 or numero2 > 10: \n",
    "    print(\"Respuesta inválida\")\n",
    "while numero1 != numero2: \n",
    "    print(\"¡Has fallado! Prueba de nuevo\")\n",
    "    if numero2 in lista_de_numeros:\n",
    "        lista_de_numeros.remove(numero2)\n",
    "    numero2= int(input(\"Indica un número de la siguiente lista \" + str(lista_de_numeros)))\n",
    "else: \n",
    "    print(\"Has acertado. ¡Enhorabuena!\")\n"
   ]
  },
  {
   "cell_type": "code",
   "execution_count": 10,
   "metadata": {},
   "outputs": [
    {
     "name": "stdout",
     "output_type": "stream",
     "text": [
      "Número no válido\n"
     ]
    }
   ],
   "source": [
    "#opcion usando if y else:\n",
    "numero1 = int(input(\"Indica tu número del 1 al 10\"))\n",
    "if numero1 < 10:\n",
    "    numero2 = int(input(\"Avidina el número del jugador 1\"))\n",
    "    if numero2 < 10:\n",
    "        if numero1 == numero2 :\n",
    "            print(\"¡Respuesta correcta!\")\n",
    "        else: \n",
    "            print(\"No has acertado\")\n",
    "    else:\n",
    "        print(\"Número no válido\")\n",
    "else:\n",
    "    print(\"Número no válido\")"
   ]
  }
 ],
 "metadata": {
  "kernelspec": {
   "display_name": "base",
   "language": "python",
   "name": "python3"
  },
  "language_info": {
   "codemirror_mode": {
    "name": "ipython",
    "version": 3
   },
   "file_extension": ".py",
   "mimetype": "text/x-python",
   "name": "python",
   "nbconvert_exporter": "python",
   "pygments_lexer": "ipython3",
   "version": "3.9.7"
  }
 },
 "nbformat": 4,
 "nbformat_minor": 2
}
